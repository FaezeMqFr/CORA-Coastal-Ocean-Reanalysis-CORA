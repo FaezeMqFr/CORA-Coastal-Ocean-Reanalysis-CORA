{
 "cells": [
  {
   "cell_type": "markdown",
   "id": "67d65ae7-d63a-45b9-abc7-741063ea2f13",
   "metadata": {
    "id": "8d6fc216-c8ff-4124-94f1-c8284f25f8f0"
   },
   "source": [
    "# This notebook allow users to pull NOAA Coastal Ocean ReAnalysis (CORA) data that is stored on NOAA's Open Data Dissemination (NODD) service and create a 2D plot of water levels."
   ]
  },
  {
   "cell_type": "code",
   "execution_count": null,
   "id": "15fed568-0233-405a-8dc0-9b7fc23489fe",
   "metadata": {
    "id": "973908ab-5c69-4775-ad1f-dccafc8deef0"
   },
   "outputs": [],
   "source": [
    "\n",
    "import numpy as np\n",
    "import matplotlib.pyplot as plt\n",
    "import pandas as pd\n",
    "import dask\n",
    "import intake\n",
    "import xarray as xr\n",
    "import geoviews as gv\n",
    "import hvplot.xarray\n",
    "import holoviews.operation.datashader as dshade\n",
    "import cmocean\n"
   ]
  },
  {
   "cell_type": "markdown",
   "id": "5094203a-bab8-4363-a586-b0c30fbf54a6",
   "metadata": {},
   "source": [
    "**Access the data on the NODD and initialize the available CORA datasets.** \n",
    "\n",
    "*This accesses a .yml file located on the NODD that shows which CORA output files are available to import.*"
   ]
  },
  {
   "cell_type": "code",
   "execution_count": null,
   "id": "0fc92db8-2b4c-488b-bad5-d321abfe8b64",
   "metadata": {
    "colab": {
     "base_uri": "https://localhost:8080/"
    },
    "id": "09ee33db-10b7-4cd1-887d-7b0aaced1d04",
    "outputId": "370bff26-6e85-46df-c299-13bd494dfe3e"
   },
   "outputs": [],
   "source": [
    "\n",
    "catalog = intake.open_catalog(\"s3://noaa-nos-cora-pds/CORA_intake.yml\",storage_options={'anon':True})\n",
    "list(catalog)\n"
   ]
  },
  {
   "cell_type": "markdown",
   "id": "6bce6610-8ffd-4a14-a384-75351238cb49",
   "metadata": {
    "id": "de2ecccc-4203-41d4-8d98-4ca8369433f0"
   },
   "source": [
    "**The CORA-V1-fort.63 file contains hourly water levels at the model mesh nodes for 1979-2022. The CORA-V1-maxele.63 file contains the maximum water level for the entire 1979-2022 period modeled at each of the model nodes. The CORA-V1-fort.64 file contains the hourly current velocities (u and v) at each of the model nodes for 1979-2022. The CORA-V1-500m-grid-1979-2022 file contains hourly water levels that have been interpolated from the model mesh nodes to uniformly space 500-meter grid nodes.**"
   ]
  },
  {
   "cell_type": "markdown",
   "id": "430b5956-6ae7-4d27-989a-a3304ce16973",
   "metadata": {},
   "source": [
    "## Using to_dask() with one of the catalog files will create an xarray dataset that contains the model grid information along with the time and water level ('zeta') variables."
   ]
  },
  {
   "cell_type": "markdown",
   "id": "bb653573-9285-4041-8732-7723fb6480e4",
   "metadata": {},
   "source": [
    "**This is the dataset for the hourly water levels at all model nodes.**"
   ]
  },
  {
   "cell_type": "code",
   "execution_count": null,
   "id": "3d8de6c4-eb81-4603-865d-d83e66dc010f",
   "metadata": {
    "colab": {
     "base_uri": "https://localhost:8080/"
    },
    "id": "f51cd6d9-b6ba-4f8d-8eb9-db5f17ebda33",
    "outputId": "1bd11d46-cbdb-463f-ada8-049b357a2d97",
    "scrolled": true
   },
   "outputs": [],
   "source": [
    "ds_hourly = catalog[\"CORA-V1-fort.63\"].to_dask()\n",
    "ds_hourly"
   ]
  },
  {
   "cell_type": "markdown",
   "id": "19671abc-5250-4c9a-809a-eac9104fafe7",
   "metadata": {},
   "source": [
    "**This is the dataset for the maximum water levels at all model nodes for each of the simulated years.**"
   ]
  },
  {
   "cell_type": "code",
   "execution_count": null,
   "id": "fa69aa1d-1d31-4473-a53f-1cc9fbd30bec",
   "metadata": {},
   "outputs": [],
   "source": [
    "\n",
    "ds_max = catalog[\"CORA-V1-maxele.63\"].to_dask()\n",
    "ds_max\n"
   ]
  },
  {
   "cell_type": "markdown",
   "id": "9e61c736-fe9b-4d86-9b2d-2a4442b3ccfd",
   "metadata": {},
   "source": [
    "## A function is created that will create a 2D plot of the zeta_max variable from the dataset."
   ]
  },
  {
   "cell_type": "code",
   "execution_count": null,
   "id": "bfd7f3a0-bb23-42ef-8a8e-2a04bd022bbf",
   "metadata": {},
   "outputs": [],
   "source": [
    "\n",
    "def plot_gridded_output(title,grid, color_map,width, height):\n",
    "    dshade.datashade.precompute = True\n",
    "\n",
    "    v = np.vstack((grid.x,grid.y, grid)).T\n",
    "    verts = pd.DataFrame(v, columns=['x','y','vmax'])\n",
    "    points = gv.operation.project_points(gv.Points(verts, vdims=['vmax']))\n",
    "    tris = pd.DataFrame(ds['element'].values.astype('int')-1, columns=['v0','v1','v2'])\n",
    "    tiles = gv.tile_sources.OSM\n",
    "    trimesh = gv.TriMesh((tris, points), label=title)\n",
    "    mesh = dshade.rasterize(trimesh).opts(cmap=color_map, colorbar=True, width=width, height=height)\n",
    "    return tiles * mesh\n",
    "    "
   ]
  },
  {
   "cell_type": "markdown",
   "id": "7b7e460f-c7fe-4ba2-aaa4-accbcb491052",
   "metadata": {},
   "source": [
    "## Create a variable for an annual maximum water elevation and plot using the function."
   ]
  },
  {
   "cell_type": "code",
   "execution_count": null,
   "id": "46c2a3d0-b76c-423a-9ee7-8ea3bb593e96",
   "metadata": {},
   "outputs": [],
   "source": [
    "\n",
    "max_annual_wl = ds[\"zeta_max\"].isel(time=43)\n"
   ]
  },
  {
   "cell_type": "code",
   "execution_count": null,
   "id": "f6c52667-6f2a-4748-aeb7-82a8111baf95",
   "metadata": {},
   "outputs": [],
   "source": [
    "\n",
    "plot_gridded_output('Max Water Elevation (ref. to msl) for 2022', max_ann, cmocean.cm.balance, 1000, 700)\n"
   ]
  },
  {
   "cell_type": "markdown",
   "id": "ce820dbc-4409-406e-9921-cb41ff5275a8",
   "metadata": {},
   "source": [
    "## Create a variable for the maximum water elevation over all available years and plot."
   ]
  },
  {
   "cell_type": "code",
   "execution_count": null,
   "id": "b0148ca6-718a-4a6b-b8ea-fa8e7ee6933f",
   "metadata": {},
   "outputs": [],
   "source": [
    "\n",
    "max_total_wl = ds[\"zeta_max\"].max(dim='time').compute()\n"
   ]
  },
  {
   "cell_type": "code",
   "execution_count": null,
   "id": "a7425edd-a600-44e0-beb0-3269da99c5ef",
   "metadata": {},
   "outputs": [],
   "source": [
    "\n",
    "plot_gridded_output('Max Water Elevation (ref. to msl) for 1979-2022', max_total_wl, cmocean.cm.balance, 1000, 700)\n"
   ]
  }
 ],
 "metadata": {
  "kernelspec": {
   "display_name": "Python 3 (ipykernel)",
   "language": "python",
   "name": "python3"
  },
  "language_info": {
   "codemirror_mode": {
    "name": "ipython",
    "version": 3
   },
   "file_extension": ".py",
   "mimetype": "text/x-python",
   "name": "python",
   "nbconvert_exporter": "python",
   "pygments_lexer": "ipython3",
   "version": "3.11.7"
  }
 },
 "nbformat": 4,
 "nbformat_minor": 5
}
