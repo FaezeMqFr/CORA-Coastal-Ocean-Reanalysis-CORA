{
 "cells": [
  {
   "cell_type": "markdown",
   "id": "734b4816-dbd2-4289-8392-46bddfee0c58",
   "metadata": {},
   "source": [
    "# This notebook allow users to pull NOAA Coastal Ocean ReAnalysis (CORA) data that is stored on NOAA's Open Data Dissemination (NODD) service. Data is extracted at the nearest model node to user provided geographic coordinates and the data is displayed in a time series plot."
   ]
  },
  {
   "cell_type": "code",
   "execution_count": null,
   "id": "d284b31d-355d-45d7-a1c7-072640e2ebd8",
   "metadata": {
    "id": "973908ab-5c69-4775-ad1f-dccafc8deef0"
   },
   "outputs": [],
   "source": [
    "\n",
    "import numpy as np\n",
    "import matplotlib.pyplot as plt\n",
    "import pandas as pd\n",
    "import dask\n",
    "import intake\n",
    "import xarray as xr\n",
    "import holoviews as hv\n",
    "import geoviews as gv\n",
    "import hvplot.xarray\n",
    "import holoviews.operation.datashader as dshade\n",
    "from bokeh.models import DatetimeTickFormatter, HoverTool\n",
    "import cmocean\n",
    "\n",
    "hv.extension('bokeh')"
   ]
  },
  {
   "cell_type": "markdown",
   "id": "92be2fef-8caf-434c-8252-8f1f09c420a1",
   "metadata": {},
   "source": [
    "**Access the data on the NODD and initialize the available CORA datasets.** \n",
    "\n",
    "*This accesses a .yml file located on the NODD that shows which CORA output files are available to import.*"
   ]
  },
  {
   "cell_type": "code",
   "execution_count": null,
   "id": "7c10c600-cbbd-4784-8945-d6f61ef4c04b",
   "metadata": {
    "colab": {
     "base_uri": "https://localhost:8080/"
    },
    "id": "09ee33db-10b7-4cd1-887d-7b0aaced1d04",
    "outputId": "370bff26-6e85-46df-c299-13bd494dfe3e"
   },
   "outputs": [],
   "source": [
    "\n",
    "catalog = intake.open_catalog(\"s3://noaa-nos-cora-pds/CORA_intake.yml\",storage_options={'anon':True})\n",
    "list(catalog)\n"
   ]
  },
  {
   "cell_type": "markdown",
   "id": "03912c97-58bb-464e-ac2f-cd67759a3ac1",
   "metadata": {
    "id": "de2ecccc-4203-41d4-8d98-4ca8369433f0"
   },
   "source": [
    "**The CORA-V1-fort.63 file contains hourly water levels at the model mesh nodes for 1979-2022. The CORA-V1-maxele.63 file contains the maximum water level for the entire 1979-2022 period modeled at each of the model nodes. The CORA-V1-fort.64 file contains the hourly current velocities (u and v) at each of the model nodes for 1979-2022. The CORA-V1-500m-grid-1979-2022 file contains hourly water levels that have been interpolated from the model mesh nodes to uniformly space 500-meter grid nodes.**"
   ]
  },
  {
   "cell_type": "markdown",
   "id": "2cc5ab81-05da-4d66-9672-7cca0f80d580",
   "metadata": {},
   "source": [
    "## Using to_dask() with one of the catalog files will create an xarray dataset that contains the model grid information along with the time and water level ('zeta') variables."
   ]
  },
  {
   "cell_type": "markdown",
   "id": "d8241a1b-0e53-4605-8245-6af847472821",
   "metadata": {},
   "source": [
    "**This is the dataset for the hourly water levels at all model nodes.**"
   ]
  },
  {
   "cell_type": "code",
   "execution_count": null,
   "id": "1b997b6f-2172-4033-b5e9-b82be174b11a",
   "metadata": {
    "colab": {
     "base_uri": "https://localhost:8080/"
    },
    "id": "f51cd6d9-b6ba-4f8d-8eb9-db5f17ebda33",
    "outputId": "1bd11d46-cbdb-463f-ada8-049b357a2d97",
    "scrolled": true
   },
   "outputs": [],
   "source": [
    "ds = catalog[\"CORA-V1-fort.63\"].to_dask()\n",
    "ds"
   ]
  },
  {
   "cell_type": "markdown",
   "id": "fca388ca-586e-4849-a48e-260dae951603",
   "metadata": {},
   "source": [
    "## Create function to find the nearest node to a given set of coordinates."
   ]
  },
  {
   "cell_type": "code",
   "execution_count": null,
   "id": "b2675cbb-6ef9-4e02-85df-72d4d5afa249",
   "metadata": {},
   "outputs": [],
   "source": [
    "# find the indices of the points in (x,y) closest to the points in (xi,yi)\n",
    "def nearxy(x,y,xi,yi):\n",
    "    ind = np.ones(len(xi),dtype=int)\n",
    "    for i in range(len(xi)):\n",
    "        dist = np.sqrt((x-xi[i])**2+(y-yi[i])**2)\n",
    "        ind[i] = dist.argmin()\n",
    "    return ind"
   ]
  },
  {
   "cell_type": "markdown",
   "id": "8d5ed924-2c7e-45bf-8847-fef7ecc44902",
   "metadata": {},
   "source": [
    "**Provide coordinates.**"
   ]
  },
  {
   "cell_type": "code",
   "execution_count": null,
   "id": "565086f9-20ec-43a7-85dc-051aa682a4ad",
   "metadata": {},
   "outputs": [],
   "source": [
    "\n",
    "lat = 32.751\n",
    "lon = -79.867"
   ]
  },
  {
   "cell_type": "markdown",
   "id": "1cca42f5-3afd-4680-b083-1277d2bec4cd",
   "metadata": {},
   "source": [
    "**Run the function.**"
   ]
  },
  {
   "cell_type": "code",
   "execution_count": null,
   "id": "2c06effd-0332-4859-b0b4-516f20edf71d",
   "metadata": {},
   "outputs": [],
   "source": [
    "ind = nearxy(ds['x'].values,ds['y'].values,[lon], [lat])"
   ]
  },
  {
   "cell_type": "markdown",
   "id": "f11d772d-3745-4090-a071-dfdc1be53082",
   "metadata": {},
   "source": [
    "**Extract data for specified time and create plot using hvplot.**"
   ]
  },
  {
   "cell_type": "code",
   "execution_count": null,
   "id": "c41edfee-94fa-40e7-a610-92032907f0cf",
   "metadata": {},
   "outputs": [],
   "source": [
    "start=\"2018-09-13\"\n",
    "end=\"2018-09-15\"\n",
    "\n",
    "tickfmt = DatetimeTickFormatter(years=\"%m/%d/%Y\", months=\"%m/%d/%Y\", days = '%m/%d/%Y', minsec = ':%M:%S')\n",
    "tooltips = [\n",
    "    (\"time\", \"@time{%F %T}\"),\n",
    "    (\"water level\", \"@zeta\"),\n",
    "]\n",
    "hover = HoverTool(tooltips=tooltips,formatters={\n",
    "        '@time': 'datetime'})\n",
    "\n",
    "ds['zeta'][:,ind].sel(time=slice(start, end)).hvplot(x='time', grid=True, xformatter=tickfmt, tools=[hover])"
   ]
  }
 ],
 "metadata": {
  "kernelspec": {
   "display_name": "Python 3 (ipykernel)",
   "language": "python",
   "name": "python3"
  },
  "language_info": {
   "codemirror_mode": {
    "name": "ipython",
    "version": 3
   },
   "file_extension": ".py",
   "mimetype": "text/x-python",
   "name": "python",
   "nbconvert_exporter": "python",
   "pygments_lexer": "ipython3",
   "version": "3.11.7"
  }
 },
 "nbformat": 4,
 "nbformat_minor": 5
}
